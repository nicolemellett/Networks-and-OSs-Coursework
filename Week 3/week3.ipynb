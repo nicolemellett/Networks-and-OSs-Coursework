{
 "cells": [
  {
   "cell_type": "markdown",
   "metadata": {},
   "source": [
    "Week 3 Lab"
   ]
  },
  {
   "cell_type": "code",
   "execution_count": null,
   "metadata": {},
   "outputs": [],
   "source": [
    "import socket\n",
    "\n",
    "def get_ip_address(website_url):\n",
    "    try:\n",
    "        ip_address = socket.gethostbyname(website_url)\n",
    "        print (f\"The Ip address of {website_url} is {ip_address}\")\n",
    "    except socket.gaierror:\n",
    "        print(f\"Unable to get ip address for {website_url}\")\n",
    "\n",
    "website = input(\"enter the website urll without https: \")\n",
    "get_ip_address(website)"
   ]
  },
  {
   "cell_type": "markdown",
   "metadata": {},
   "source": [
    "Exercise 1: Try 3 websites and get results"
   ]
  },
  {
   "cell_type": "code",
   "execution_count": 3,
   "metadata": {},
   "outputs": [
    {
     "name": "stdout",
     "output_type": "stream",
     "text": [
      "The Ip address of google.com is 216.58.212.206\n",
      "The Ip address of asos.com is 2.21.15.57\n",
      "The Ip address of sephora.com is 173.222.12.134\n"
     ]
    }
   ],
   "source": [
    "website1  = \"google.com\"\n",
    "website2 = \"asos.com\"\n",
    "website3 = \"sephora.com\"\n",
    "get_ip_address(website1)\n",
    "get_ip_address(website2)\n",
    "get_ip_address(website3)"
   ]
  },
  {
   "cell_type": "code",
   "execution_count": null,
   "metadata": {},
   "outputs": [],
   "source": [
    "import subprocess\n",
    "\n",
    "def tracert(domain):\n",
    "    try:\n",
    "        result = subprocess.run([\"traceroute\", domain], capture_output = True, text = True)\n",
    "        print (result.stdout)\n",
    "    except FileNotFoundError:\n",
    "        print (\"traceroute command not found. make sure it is available\")\n",
    "    except Exception as e:\n",
    "        print (f\"an error occurred: {e}\")\n",
    "    \n",
    "domain = input(\"enter the website or ip address: \")\n",
    "tracert(domain)"
   ]
  },
  {
   "cell_type": "markdown",
   "metadata": {},
   "source": [
    "Exercise 2: Experiment with 3 domain names and get the traceroute output"
   ]
  },
  {
   "cell_type": "code",
   "execution_count": null,
   "metadata": {},
   "outputs": [],
   "source": [
    "domain1 = \"google.com\"\n",
    "domain2 = \"asos.com\"\n",
    "domain3 = \"youtube.com\"\n",
    "tracert(domain1)\n",
    "tracert(domain2)    \n",
    "tracert(domain3)"
   ]
  },
  {
   "cell_type": "markdown",
   "metadata": {},
   "source": [
    "Exercise 3: Analyse traceroutes\n",
    "\n",
    "Exercise 3 – analyse traceroutes \n",
    "\n",
    "Youtube\n",
    "-\tFirst 8 lines refer to hops, the asterisks means the exact info was blocked to likely prevent probing through timeouts (lack of response) or nodes being unreachable\n",
    "-\tThey may not be confiugured for ICMP messages\n",
    "-\tHop 9 is successful, with ams16s21-in-f14.1e100.net being the destination server, the ip address being 216.58.212.206, likely in Amsterdam. The packets reached the destination\n",
    "-\t26.935 is time for first packet, 12.044 for the second and 10.957 for the third \n",
    "-\tThese are roundtrips, quick roundtrips mean the networks functioning quickly an there is no congestion\n",
    "\n",
    "Google \n",
    "-\tFirst 8 lines refer to hops, the asterisks means the exact info was blocked to likely prevent probing through timeouts (lack of response) or nodes being unreachable\n",
    "-\tThey may not be confiugured for ICMP messages\n",
    "-\tHop 9 is successful, ber01s14-in-f3.1e100.net being the destination server, the ip address being 2216.58.213.3, likely in Berlin. The packets reached the destination\n",
    "-\tPacket 1 took 8.369 ms, packet 2 took  4.513 ms, packet 3 took 4.243 ms\n",
    "-\tThese are roundtrips, quick roundtrips mean the networks functioning quickly an there is no congestion\n",
    "\n",
    "Asos \n",
    "\n",
    "-\t10 hops between routers\n",
    "-\tDespite different outputs to previous traceroutes, the first 9 hops are still unreachable due to privacy, configuration or nodes being unreachable\n",
    "-\tThis could be a blockage of any icmp ot udp protocol\n",
    "-\tTraffic may not be expected to reply to thse hop requests\n",
    "-\tThe ip address of final router is 2.21.15.57 as shown on hop 10\n",
    "-\tThe destination server is a2-21-15-57.deploy.static.akamaitechnologies.com \n",
    "-\tThis is the company Akamai Technologies, a popular cdn provider\n",
    "-\tThis is content delivery as images, styling css and javascript\n",
    "-\tThe packets delivered in 14.469 ms, 13.291 ms, 15.186 ms roundtime – to Akamais server and back\n",
    "-\tLow latency suggests global optimizized servers\n"
   ]
  },
  {
   "cell_type": "markdown",
   "metadata": {},
   "source": [
    "Exercise 4\n",
    "\n",
    "-\tAll timeout hops imply there may be network problems and congestion\n",
    "-\tWe cannot see the times between hops, further implying there may be issues here\n",
    "-\tThe routers could be slow amd overwhelmed\n",
    "-\tThe first hops may be provided by my end’s isp\n",
    "-\tIf these are consistently timing out, this may suggest bottlenecks in my isps routing \n"
   ]
  },
  {
   "cell_type": "markdown",
   "metadata": {},
   "source": [
    "Simulating a basic browser"
   ]
  },
  {
   "cell_type": "code",
   "execution_count": null,
   "metadata": {},
   "outputs": [],
   "source": [
    "import socket\n",
    "\n",
    "# creat socket object\n",
    "client_socket = socket.socket(socket.AF_INET, socket.SOCK_STREAM)\n",
    "\n",
    "# DEFINE SERVER ADDRESS AND PORT\n",
    "server_address = ('www.google.com', 80)\n",
    "\n",
    "# connect to server\n",
    "client_socket.connect(server_address)\n",
    "\n",
    "#senf a http get request\n",
    "request = \"GET / HTTP/1.1\\r\\nHost: www.googlr.com\\r\\n\\r\\n\"\n",
    "client_socket.send(request.encode())\n",
    "\n",
    "# recieve the response\n",
    "response = client_socket.recv(4096)\n",
    "print (response.decode())\n",
    "client_socket.close()\n",
    "\n",
    "\n",
    "\n",
    "import requests \n",
    "\n",
    "reponse = requests.get('http://www.google.com')\n",
    "print(response.text)"
   ]
  },
  {
   "cell_type": "markdown",
   "metadata": {},
   "source": [
    "Creation of socket\n",
    "\n",
    "-\tSocket is network communication endpoint\n",
    "-\tScript creates a socket object\n",
    "-\tIt specifies that IP and TCP will be used\n",
    "-\tTCP delivers data reliably and in the correct order\n",
    "\n",
    "Connection to server\n",
    "\n",
    "-\tScript connects socket to server \n",
    "-\tThis is at www.example.com at port 80\n",
    "-\tPort 80 is standard port for HTTP\n",
    "-\tEstablishes connection between python script, which is client side, and the web server\n",
    "\n",
    "Send HTTP Request\n",
    "\n",
    "-\tScipt creates http get request\n",
    "-\tTells web server wants the main web page\n",
    "-\tHost header specifies domain name\n",
    "-\t\\r\\n represents carriage return and line feed characters, which separate lines in http headers\n",
    "-\tRequest is sent over socket to server\n",
    "\n",
    "Receive response\n",
    "\n",
    "-\tScript waits for the server to respond\n",
    "-\tRecv() method receives data sent by server\n",
    "-\tThis is the http response\n",
    "-\tStores it in response variable\n",
    "\n",
    "Print reponse\n",
    "\n",
    "-\tScript prints received response\n",
    "-\tResponse is html content of www.google.com web page\n",
    "-\tAlso prints http headers that provide info on the response\n",
    "\n",
    "Close socket\n",
    "\n",
    "-\tScript closes socket\n",
    "-\tTerminates connection to server\n",
    "\n",
    "\n",
    "Python requests library\n",
    "\n",
    "-\tSocket module can be consuming for everyday tasks\n",
    "-\tRequests library simplies http requests and is widely used in industry\n",
    "-\tEasier syntax for http requests\n",
    "-\tAuto handling of headers, cookies and character encoding\n",
    "\n",
    "Http Requests type\n",
    "\n",
    "Common requests\n",
    "\n",
    "GET – fetches read-only data from server\n",
    "POST – sends data to a server to create or change a resource \n",
    "PUT – updates existing resource on server, requires full updated data to be sent in request body\n",
    "DELETE – deletes resource from server, doesn’t require a request body\n",
    "POST\n",
    "\n",
    "-\tSend data to crate / update a resource\n",
    "-\tSubmits data as part of request unlike a GET request\n",
    "-\tUsed in web applications like user registration and login forms, uploading files, submitting forms and creating records in a database\n",
    "POST over GET\n",
    "\n",
    "-\tData sent in request body not the url\n",
    "-\tKeeps url clean and allows for larger data sets\n",
    "-\tMore secure for sensitive data as info is not stored in browser history or visible in url logs\n"
   ]
  }
 ],
 "metadata": {
  "kernelspec": {
   "display_name": "base",
   "language": "python",
   "name": "python3"
  },
  "language_info": {
   "codemirror_mode": {
    "name": "ipython",
    "version": 3
   },
   "file_extension": ".py",
   "mimetype": "text/x-python",
   "name": "python",
   "nbconvert_exporter": "python",
   "pygments_lexer": "ipython3",
   "version": "3.12.2"
  }
 },
 "nbformat": 4,
 "nbformat_minor": 2
}
