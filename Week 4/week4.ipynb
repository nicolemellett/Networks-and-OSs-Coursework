{
 "cells": [
  {
   "cell_type": "markdown",
   "metadata": {},
   "source": [
    "Lab 4 "
   ]
  },
  {
   "cell_type": "code",
   "execution_count": 4,
   "metadata": {},
   "outputs": [
    {
     "name": "stdout",
     "output_type": "stream",
     "text": [
      "UDP server is ready to recieve API data...\n",
      "recieved data from ('127.0.0.1', 62337): Hello, udp server!\n"
     ]
    },
    {
     "ename": "KeyboardInterrupt",
     "evalue": "",
     "output_type": "error",
     "traceback": [
      "\u001b[31m---------------------------------------------------------------------------\u001b[39m",
      "\u001b[31mKeyboardInterrupt\u001b[39m                         Traceback (most recent call last)",
      "\u001b[36mCell\u001b[39m\u001b[36m \u001b[39m\u001b[32mIn[4]\u001b[39m\u001b[32m, line 11\u001b[39m\n\u001b[32m      8\u001b[39m \u001b[38;5;28mprint\u001b[39m (\u001b[33m\"\u001b[39m\u001b[33mUDP server is ready to recieve API data...\u001b[39m\u001b[33m\"\u001b[39m)\n\u001b[32m     10\u001b[39m \u001b[38;5;28;01mwhile\u001b[39;00m \u001b[38;5;28;01mTrue\u001b[39;00m:\n\u001b[32m---> \u001b[39m\u001b[32m11\u001b[39m     data, client_address = \u001b[43mserver_socket\u001b[49m\u001b[43m.\u001b[49m\u001b[43mrecvfrom\u001b[49m\u001b[43m(\u001b[49m\u001b[32;43m2048\u001b[39;49m\u001b[43m)\u001b[49m \u001b[38;5;66;03m# returns data and address of sender\u001b[39;00m\n\u001b[32m     12\u001b[39m     \u001b[38;5;28mprint\u001b[39m(\u001b[33mf\u001b[39m\u001b[33m\"\u001b[39m\u001b[33mrecieved data from \u001b[39m\u001b[38;5;132;01m{\u001b[39;00mclient_address\u001b[38;5;132;01m}\u001b[39;00m\u001b[33m: \u001b[39m\u001b[38;5;132;01m{\u001b[39;00mdata.decode()\u001b[38;5;132;01m}\u001b[39;00m\u001b[33m\"\u001b[39m) \u001b[38;5;66;03m# prints sender ddress and converts to readable string\u001b[39;00m\n",
      "\u001b[31mKeyboardInterrupt\u001b[39m: "
     ]
    }
   ],
   "source": [
    "# Build  simple UDP server\n",
    "\n",
    "import socket # imports built in socket module\n",
    "\n",
    "server_socket = socket.socket(socket.AF_INET , socket.SOCK_DGRAM) # creates socket object with specific ipv4, UDP socket\n",
    "server_socket.bind(('localhost', 65433)) # binds socker to specifc port number\n",
    "\n",
    "print (\"UDP server is ready to recieve API data...\")\n",
    "\n",
    "while True:\n",
    "    data, client_address = server_socket.recvfrom(2048) # returns data and address of sender\n",
    "    print(f\"recieved data from {client_address}: {data.decode()}\") # prints sender ddress and converts to readable string\n",
    "    "
   ]
  },
  {
   "cell_type": "code",
   "execution_count": null,
   "metadata": {},
   "outputs": [],
   "source": [
    "# Client code\n",
    "\n",
    "\n",
    "import socket\n",
    "\n",
    "client_socket = socket.socket(socket.AF_INET, socket.SOCK_DGRAM)\n",
    "\n",
    "server_address = ('localhost', 65433)\n",
    "message = b\"Hello, udp server!\"\n",
    "\n",
    "client_socket.sendto(message, server_address)\n",
    "\n",
    "client_socket.close()"
   ]
  },
  {
   "cell_type": "code",
   "execution_count": 5,
   "metadata": {},
   "outputs": [
    {
     "name": "stdout",
     "output_type": "stream",
     "text": [
      "UDP Chat Server is running...\n",
      "Client (('127.0.0.1', 51284)): hi\n",
      "Client (('127.0.0.1', 51284)): hi\n"
     ]
    },
    {
     "ename": "KeyboardInterrupt",
     "evalue": "",
     "output_type": "error",
     "traceback": [
      "\u001b[31m---------------------------------------------------------------------------\u001b[39m",
      "\u001b[31mKeyboardInterrupt\u001b[39m                         Traceback (most recent call last)",
      "\u001b[36mCell\u001b[39m\u001b[36m \u001b[39m\u001b[32mIn[5]\u001b[39m\u001b[32m, line 13\u001b[39m\n\u001b[32m     10\u001b[39m \u001b[38;5;28mprint\u001b[39m(\u001b[33m\"\u001b[39m\u001b[33mUDP Chat Server is running...\u001b[39m\u001b[33m\"\u001b[39m)\n\u001b[32m     12\u001b[39m \u001b[38;5;28;01mwhile\u001b[39;00m \u001b[38;5;28;01mTrue\u001b[39;00m:\n\u001b[32m---> \u001b[39m\u001b[32m13\u001b[39m     data, client_address = \u001b[43mserver_socket\u001b[49m\u001b[43m.\u001b[49m\u001b[43mrecvfrom\u001b[49m\u001b[43m(\u001b[49m\u001b[32;43m2048\u001b[39;49m\u001b[43m)\u001b[49m\n\u001b[32m     14\u001b[39m     message = data.decode()\n\u001b[32m     15\u001b[39m     \u001b[38;5;28mprint\u001b[39m(\u001b[33mf\u001b[39m\u001b[33m\"\u001b[39m\u001b[33mClient (\u001b[39m\u001b[38;5;132;01m{\u001b[39;00mclient_address\u001b[38;5;132;01m}\u001b[39;00m\u001b[33m): \u001b[39m\u001b[38;5;132;01m{\u001b[39;00mmessage\u001b[38;5;132;01m}\u001b[39;00m\u001b[33m\"\u001b[39m)\n",
      "\u001b[31mKeyboardInterrupt\u001b[39m: "
     ]
    }
   ],
   "source": [
    "# Exercise 1 \n",
    "\n",
    "# server side\n",
    "\n",
    "import socket\n",
    "\n",
    "server_socket = socket.socket(socket.AF_INET, socket.SOCK_DGRAM)\n",
    "server_socket.bind(('localhost', 65433))\n",
    "\n",
    "print(\"UDP Chat Server is running...\")\n",
    "\n",
    "while True:\n",
    "    data, client_address = server_socket.recvfrom(2048)\n",
    "    message = data.decode()\n",
    "    print(f\"Client ({client_address}): {message}\")\n",
    "\n",
    "    response = input(\"You (Server): \")\n",
    "    server_socket.sendto(response.encode(), client_address)\n",
    "\n",
    "server_socket.close()"
   ]
  },
  {
   "cell_type": "code",
   "execution_count": null,
   "metadata": {},
   "outputs": [],
   "source": [
    "# client side\n",
    "\n",
    "import socket\n",
    "\n",
    "client_socket = socket.socket(socket.AF_INET, socket.SOCK_DGRAM)\n",
    "server_address = ('localhost', 65433)\n",
    "\n",
    "print(\"Connected to UDP Chat Server\")\n",
    "\n",
    "while True:\n",
    "    message = input(\"You (Client): \")\n",
    "    client_socket.sendto(message.encode(), server_address)\n",
    "    \n",
    "    response, _ = client_socket.recvfrom(2048)\n",
    "    print(f\"Server: {response.decode()}\")\n",
    "\n",
    "client_socket.close()\n"
   ]
  },
  {
   "cell_type": "code",
   "execution_count": null,
   "metadata": {},
   "outputs": [],
   "source": [
    "# Exercise 2 \n",
    "\n",
    "# server side\n",
    "\n",
    "import socket\n",
    "\n",
    "server_socket = socket.socket(socket.AF_INET, socket.SOCK_DGRAM)\n",
    "server_socket.bind(('localhost', 65433))\n",
    "\n",
    "clients = {}\n",
    "\n",
    "print(\"UDP Chat Server is running...\")\n",
    "\n",
    "while True:\n",
    "    data, client_address = server_socket.recvfrom(2048)\n",
    "    message = data.decode()\n",
    "\n",
    "    if client_address not in clients:\n",
    "        clients[client_address] = f\"User{len(clients) + 1}\"\n",
    "        print(f\"New client: {clients[client_address]} ({client_address})\")\n",
    "    \n",
    "    print(f\"Client ({client_address}): {message}\")\n",
    "\n",
    "    response = input(\"You (Server): \")\n",
    "    server_socket.sendto(response.encode(), client_address)\n",
    "\n",
    "server_socket.close()"
   ]
  },
  {
   "cell_type": "code",
   "execution_count": 1,
   "metadata": {},
   "outputs": [
    {
     "name": "stdout",
     "output_type": "stream",
     "text": [
      "UDP chat server is running on port 65433...\n"
     ]
    },
    {
     "ename": "KeyboardInterrupt",
     "evalue": "",
     "output_type": "error",
     "traceback": [
      "\u001b[31m---------------------------------------------------------------------------\u001b[39m",
      "\u001b[31mKeyboardInterrupt\u001b[39m                         Traceback (most recent call last)",
      "\u001b[36mCell\u001b[39m\u001b[36m \u001b[39m\u001b[32mIn[1]\u001b[39m\u001b[32m, line 83\u001b[39m\n\u001b[32m     80\u001b[39m \u001b[38;5;28mprint\u001b[39m(\u001b[33m\"\u001b[39m\u001b[33mUDP chat server is running on port 65433...\u001b[39m\u001b[33m\"\u001b[39m)\n\u001b[32m     82\u001b[39m \u001b[38;5;28;01mwhile\u001b[39;00m \u001b[38;5;28;01mTrue\u001b[39;00m:\n\u001b[32m---> \u001b[39m\u001b[32m83\u001b[39m     data, client_address = \u001b[43mserver_socket\u001b[49m\u001b[43m.\u001b[49m\u001b[43mrecvfrom\u001b[49m\u001b[43m(\u001b[49m\u001b[32;43m2048\u001b[39;49m\u001b[43m)\u001b[49m\n\u001b[32m     85\u001b[39m     \u001b[38;5;28;01mtry\u001b[39;00m:\n\u001b[32m     86\u001b[39m         received_data = json.loads(data.decode())\n",
      "\u001b[31mKeyboardInterrupt\u001b[39m: "
     ]
    }
   ],
   "source": [
    "import socket\n",
    "import json\n",
    "import base64\n",
    "from cryptography.fernet import Fernet\n",
    "\n",
    "# Dictionary to store connected users: address: username\n",
    "new_users = {}\n",
    "# Dictionary to store user credentials: username: password\n",
    "user_details = {\n",
    "    \"nicole\": \"shiki2014\",\n",
    "    \"nic\": \"London34\",\n",
    "    \"joanne\": \"Beth2005\"\n",
    "}\n",
    "\n",
    "encryption_key = Fernet.generate_key()\n",
    "cipher_suite = Fernet(encryption_key)\n",
    "\n",
    "def encrypt_message(message):\n",
    "    \"\"\"Encrypt a message using Fernet symmetric encryption\"\"\"\n",
    "    return cipher_suite.encrypt(message.encode())\n",
    "\n",
    "def decrypt_message(encrypted_message):\n",
    "    \"\"\"Decrypt a message using Fernet symmetric encryption\"\"\"\n",
    "    return cipher_suite.decrypt(encrypted_message).decode()\n",
    "\n",
    "def is_authenticated(username, password):\n",
    "    \"\"\"Check if username and password match stored credentials\"\"\"\n",
    "    return username in user_details and user_details[username] == password\n",
    "\n",
    "def authentication(client_socket, client_address):\n",
    "    \"\"\"Handle the authentication process for a new client\"\"\"\n",
    "    # Send authentication request\n",
    "    auth_request = json.dumps({\"type\": \"auth_request\"})\n",
    "    client_socket.sendto(auth_request.encode(), client_address)\n",
    "    \n",
    "    # Wait for credentials response (blocking)\n",
    "    try:\n",
    "        data, addr = client_socket.recvfrom(2048)\n",
    "        auth_data = json.loads(data.decode())\n",
    "        \n",
    "        if auth_data[\"type\"] == \"auth_response\":\n",
    "            username = auth_data[\"username\"]\n",
    "            password = auth_data[\"password\"]\n",
    "            \n",
    "            if is_authenticated(username, password):\n",
    "                # Authentication successful\n",
    "                new_users[client_address] = username\n",
    "                response = json.dumps({\"type\": \"auth_result\", \"successful\": True, \"key\": encryption_key.decode()})\n",
    "                client_socket.sendto(response.encode(), client_address)\n",
    "                broadcast_message(f\"SERVER: {username} has joined chat\", client_address)\n",
    "                print(f\"User {username} authenticated from {client_address}\")\n",
    "                return True\n",
    "            else:\n",
    "                # Authentication failed\n",
    "                response = json.dumps({\"type\": \"auth_result\", \"success\": False})\n",
    "                client_socket.sendto(response.encode(), client_address)\n",
    "                print(f\"Failed from {client_address}\")\n",
    "                return False\n",
    "    except Exception as e:\n",
    "        print(f\"Authentication error: {e}\")\n",
    "        return False\n",
    "\n",
    "def broadcast_message(message, sender_address=None):\n",
    "    \"\"\"Send a message to all connected clients except the sender\"\"\"\n",
    "    for address in new_users:\n",
    "        if address != sender_address:\n",
    "            encrypted_msg = encrypt_message(message)\n",
    "            server_socket.sendto(\n",
    "                json.dumps({\n",
    "                    \"type\": \"chat_message\", \n",
    "                    \"content\": base64.b64encode(encrypted_msg).decode()\n",
    "                }).encode(), \n",
    "                address\n",
    "            )\n",
    "\n",
    "# Create a UDP socket\n",
    "server_socket = socket.socket(socket.AF_INET, socket.SOCK_DGRAM)\n",
    "server_socket.bind(('localhost', 65433))\n",
    "\n",
    "print(\"UDP chat server is running on port 65433...\")\n",
    "\n",
    "while True:\n",
    "    data, client_address = server_socket.recvfrom(2048)\n",
    "    \n",
    "    try:\n",
    "        received_data = json.loads(data.decode())\n",
    "        \n",
    "        # Handle different types of messages\n",
    "        if received_data[\"type\"] == \"connect\":\n",
    "            # New client connecting, initiate authentication\n",
    "            authentication(server_socket, client_address)\n",
    "        \n",
    "        elif received_data[\"type\"] == \"chat_message\":\n",
    "            # Handle chat message from authenticated user\n",
    "            if client_address in new_users:\n",
    "                # Decrypt the message\n",
    "                encrypted_content = base64.b64decode(received_data[\"content\"])\n",
    "                decrypted_message = decrypt_message(encrypted_content)\n",
    "                \n",
    "                # Format and broadcast the message\n",
    "                sender_username = new_users[client_address]\n",
    "                formatted_message = f\"{sender_username}: {decrypted_message}\"\n",
    "                print(formatted_message)\n",
    "                broadcast_message(formatted_message, client_address)\n",
    "            else:\n",
    "                # Unauthenticated user trying to send a message\n",
    "                server_socket.sendto(json.dumps({\"type\": \"error\", \"message\": \"Not authenticated\"}).encode(), client_address)\n",
    "        \n",
    "        elif received_data[\"type\"] == \"disconnect\":\n",
    "            # Client disconnecting\n",
    "            if client_address in new_users:\n",
    "                username = new_users[client_address]\n",
    "                broadcast_message(f\"SERVER: {username} has left the chat\", client_address)\n",
    "                del new_users[client_address]\n",
    "                print(f\"User {username} disconnected from {client_address}\")\n",
    "    \n",
    "    except Exception as e:\n",
    "        print(f\"Error with message: {e}\")\n",
    "\n",
    "\n",
    "\n"
   ]
  }
 ],
 "metadata": {
  "kernelspec": {
   "display_name": "base",
   "language": "python",
   "name": "python3"
  },
  "language_info": {
   "codemirror_mode": {
    "name": "ipython",
    "version": 3
   },
   "file_extension": ".py",
   "mimetype": "text/x-python",
   "name": "python",
   "nbconvert_exporter": "python",
   "pygments_lexer": "ipython3",
   "version": "3.12.2"
  }
 },
 "nbformat": 4,
 "nbformat_minor": 2
}
