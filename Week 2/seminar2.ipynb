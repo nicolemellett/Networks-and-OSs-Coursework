{
 "cells": [
  {
   "cell_type": "markdown",
   "metadata": {},
   "source": [
    "Week 2 Seminar"
   ]
  },
  {
   "cell_type": "markdown",
   "metadata": {},
   "source": [
    "Test to run Jupyter Notebook"
   ]
  },
  {
   "cell_type": "code",
   "execution_count": null,
   "metadata": {},
   "outputs": [],
   "source": [
    "print ('Hello World')"
   ]
  },
  {
   "cell_type": "markdown",
   "metadata": {},
   "source": [
    "Exercise 1: Basic Maths Operations"
   ]
  },
  {
   "cell_type": "code",
   "execution_count": null,
   "metadata": {},
   "outputs": [],
   "source": [
    "# i. Add two numbers and print result\n",
    "print (3 + 3)\n",
    "\n",
    "# ii. Subtract 2 numbers and print result\n",
    "print (3 - 3)\n",
    "\n",
    "# iii. Multiply 2 numbers and print result\n",
    "print (3 * 4)\n",
    "\n",
    "# iv. Divide 2 numbers and print result\n",
    "print ( 3 / 3)\n",
    "\n",
    "# v. Calculate the remainder of two numbers and print result\n",
    "print (4 // 3)\n",
    "\n",
    "# vi. Calculate the power of a number and print result\n",
    "print (4 ** 2)"
   ]
  },
  {
   "cell_type": "markdown",
   "metadata": {},
   "source": [
    "Exercise 2: Python Data Types\n"
   ]
  },
  {
   "cell_type": "code",
   "execution_count": null,
   "metadata": {},
   "outputs": [],
   "source": [
    "# i. Create a list of 5 different fruits and print the list\n",
    "fruits = ['banana', 'apple', 'pear', 'grapes', 'mango']\n",
    "print (fruits)\n",
    "\n",
    "# ii. Create a tuple of 3 animals and print\n",
    "animals = ('dog', 'cat', 'pig')\n",
    "print(animals)\n",
    "\n",
    "# iii. Create a dictionary of 3 different key-value pairs where the keys are names of \n",
    "# programming languages and the values are their release dates.\n",
    "programs = {\n",
    "    \"Python\": \"1991\",\n",
    "    \"Javascript\": \"1995\",\n",
    "    \"C\": \"1972\"\n",
    "}\n",
    "\n",
    "# iv. Create a set of 3 different colours and print\n",
    "colours = {'pink', 'purple', 'red'}\n",
    "print(colours)\n",
    "\n",
    "# v. Create a dictionary of 3 different key-value pairs where the keys are names of\n",
    "# programming languages and the values are their release dates.\n",
    "python = 'Python is an easy-to-learn programming language'"
   ]
  },
  {
   "cell_type": "markdown",
   "metadata": {},
   "source": [
    "Exercise 3: Python Data Types"
   ]
  },
  {
   "cell_type": "code",
   "execution_count": null,
   "metadata": {},
   "outputs": [],
   "source": [
    "# i. Write a script that takes a user input of a number and checks if it is positive, negative or\n",
    "# zero. Print the results.\n",
    "num1 = int(input('Enter a number: '))\n",
    "if num1 == 0:\n",
    "    print ('Zero')\n",
    "elif num1 < 0:\n",
    "    print ('Negative')\n",
    "else:\n",
    "    print ('Positive')\n",
    "\n",
    "# ii. Write a script that takes a user input of a string and checks if it starts with a vowel or\n",
    "# consonant. Print the results.\n",
    "str1 = input('Enter a word or phrase: ')\n",
    "str1 = str1.lower()\n",
    "if str1[0] in 'aeiou':\n",
    "    print ('Vowel')\n",
    "else:\n",
    "    print ('Consonant')\n",
    "\n",
    "#Write a script that takes a user input of two numbers and checks if they are equal or not.\n",
    "# Print the results\n",
    "number_1 = int(input(\"Enter a number: \"))\n",
    "number_2 = int(input('Enter a second number: '))\n",
    "if number_1 == number_2:\n",
    "    print('Equal')\n",
    "else:\n",
    "    print('Not equal')"
   ]
  },
  {
   "cell_type": "markdown",
   "metadata": {},
   "source": [
    "Exercise 4: Loops"
   ]
  },
  {
   "cell_type": "code",
   "execution_count": null,
   "metadata": {},
   "outputs": [],
   "source": [
    "# i. Write a script that prints the numbers from 1 to 10 using a for loop\n",
    "for i in range (1,11):\n",
    " print (i)\n",
    "\n",
    " # ii. Write a script that prints the even numbers from 2 to 10 using a for loop\n",
    "for i in range (2, 11, 2):\n",
    " print(i)\n",
    "\n",
    " # iii. Write a script that prints the first 5 numbers of the Fibonacci sequence using a while\n",
    " # loop.\n",
    "a = 0\n",
    "b = 1\n",
    "count = 0\n",
    "\n",
    "while count < 5:\n",
    "    print(a)\n",
    "    a, b = b, a + b\n",
    "    count += 1"
   ]
  },
  {
   "cell_type": "markdown",
   "metadata": {},
   "source": [
    "Exercise 5: Functions"
   ]
  },
  {
   "cell_type": "code",
   "execution_count": 2,
   "metadata": {},
   "outputs": [
    {
     "name": "stdout",
     "output_type": "stream",
     "text": [
      "22\n"
     ]
    },
    {
     "data": {
      "text/plain": [
       "100"
      ]
     },
     "execution_count": 2,
     "metadata": {},
     "output_type": "execute_result"
    }
   ],
   "source": [
    "# i. Write a function that takes two numbers as parameters and returns their sum.\n",
    "def Sum (a, b):\n",
    "    print (a + b)\n",
    "\n",
    "Sum (10, 12)\n",
    "\n",
    "# ii. Write a function that takes a list of numbers as a parameter and returns the largest\n",
    "# number in the list.\n",
    "num_list = [10, 2 , 3, 90, 100]\n",
    "\n",
    "def find_max (num):\n",
    "  return max(num)\n",
    "\n",
    "find_max(num_list)"
   ]
  },
  {
   "cell_type": "code",
   "execution_count": null,
   "metadata": {},
   "outputs": [],
   "source": [
    "# Write a function that takes a string as a parameter and returns the number of vowels\n",
    "# in the string.\n",
    "def count_vowels(phrase):\n",
    "    count = 0\n",
    "    vowels = ['a', 'e', 'i', 'o', 'u']\n",
    "    for i in phrase.lower(): \n",
    "        if i in vowels:\n",
    "            count += 1\n",
    "    return count\n",
    "\n",
    "print(count_vowels('Nicole'))"
   ]
  },
  {
   "cell_type": "markdown",
   "metadata": {},
   "source": [
    "Exercise 6: Password Strength Checker\n"
   ]
  },
  {
   "cell_type": "code",
   "execution_count": null,
   "metadata": {},
   "outputs": [],
   "source": [
    "# Write a Python script that checks the strength of a password based on the following criteria:\n",
    "# The password must contain at least 8 characters.\n",
    "# The password must contain at least one uppercase letter.\n",
    "# The password must contain at least one lowercase letter.\n",
    "# The password must contain at least one special character (e.g. @, #, $,%, etc.).\n",
    "\n",
    "def check_strength(password):\n",
    "    special_characters = \"!@#$%^&*(),.?\\\":{}|<>\"\n",
    "    if len(password) < 8:\n",
    "        return \"Password must be at least 8 characters long\"\n",
    "\n",
    "    if not any(char.isupper() for char in password):\n",
    "        return \"Password must contain at least one uppercase letter\"\n",
    "\n",
    "    if not any(char.islower() for char in password):\n",
    "        return \"Password must contain at least one lowercase letter\"\n",
    "\n",
    "    if not any(char in special_characters for char in password):\n",
    "        return \"Password must contain at least one special character\"\n",
    "\n",
    "    return \"Password is strong\"\n",
    "\n",
    "# Example usage\n",
    "password = input(\"Enter your password: \")\n",
    "print(check_strength(password))"
   ]
  },
  {
   "cell_type": "markdown",
   "metadata": {},
   "source": [
    "Exercise 7: Caesar Cipher\n",
    "\n",
    "In this exercise, create a script that encrypts and decrypts messages using the\n",
    "Caesar cipher.\n",
    "The Caesar cipher is a simple encryption technique that involves shifting each letter\n",
    "of the message by a certain number of positions down the alphabet. For example, if\n",
    "we shift the letter \"A\" by 3 positions, we get the letter \"D\". Similarly, if we shift the\n",
    "letter \"B\" by 2 positions, we get the letter \"D\".\n",
    "Write a Python script that takes a message and a key as inputs and\n",
    "encrypts/decrypts the message using the Caesar cipher. The key is the number of\n",
    "positions each letter should be shifted down the alphabet."
   ]
  },
  {
   "cell_type": "code",
   "execution_count": null,
   "metadata": {},
   "outputs": [],
   "source": [
    "def caesar_cipher(message, key, mode):\n",
    "    result = \"\"  \n",
    "\n",
    "    for char in message:\n",
    "        if char.isalpha(): \n",
    "            shift = key if mode == \"encrypt\" else -key  \n",
    "            new_char = chr(((ord(char.upper()) - 65 + shift) % 26) + 65)\n",
    "            result += new_char if char.isupper() else new_char.lower()\n",
    "        else:\n",
    "            result += char\n",
    "\n",
    "    return result\n",
    "\n",
    "# Example usage\n",
    "message = input(\"Enter the message: \")\n",
    "key = int(input(\"Enter the shift key: \"))\n",
    "mode = input(\"Enter mode (encrypt/decrypt): \").lower()\n",
    "\n",
    "new_msg = caesar_cipher(message, key, mode)\n",
    "print(\"Result:\", new_msg)\n"
   ]
  },
  {
   "cell_type": "markdown",
   "metadata": {},
   "source": [
    "Exercise 8: Hangman\n",
    "\n",
    "Write a Python script that plays the game of Hangman. The script should randomly\n",
    "select a word from a list of words, and the user should have to guess the letters in\n",
    "the word one by one. The user is allowed a certain number of incorrect guesses\n",
    "before the game is over."
   ]
  },
  {
   "cell_type": "code",
   "execution_count": 33,
   "metadata": {},
   "outputs": [
    {
     "name": "stdout",
     "output_type": "stream",
     "text": [
      "_ _ _ _ _ _\n",
      "p _ _ _ _ _\n",
      "p y _ _ _ _\n",
      "p y t _ _ _\n",
      "p y t h _ _\n",
      "Wrong! 5 attempts left.\n",
      "p y t h _ _\n",
      "p y t h o _\n",
      "p y t h o n\n",
      "\n",
      "You won!.\n"
     ]
    }
   ],
   "source": [
    "import random\n",
    "\n",
    "words = [\"python\", \"java\", \"javascript\", \"C\", \"HTML\"]\n",
    "word = random.choice(words)\n",
    "guessed = [\"_\"] * len(word)\n",
    "attempts = 6\n",
    "\n",
    "print(\" \".join(guessed))\n",
    "\n",
    "while attempts > 0 and \"_\" in guessed:\n",
    "    guess = input(\"\\nGuess a letter: \").lower()\n",
    "    \n",
    "    if guess in word:\n",
    "        for i in range(len(word)):\n",
    "            if word[i] == guess:\n",
    "                guessed[i] = guess\n",
    "    else:\n",
    "        attempts -= 1\n",
    "        print(f\"Wrong! {attempts} attempts left.\")\n",
    "\n",
    "    print(\" \".join(guessed))\n",
    "\n",
    "print(f\"\\n{'You won!' if '_' not in guessed else 'You lose.The word was ' + word}\")\n"
   ]
  }
 ],
 "metadata": {
  "kernelspec": {
   "display_name": "base",
   "language": "python",
   "name": "python3"
  },
  "language_info": {
   "codemirror_mode": {
    "name": "ipython",
    "version": 3
   },
   "file_extension": ".py",
   "mimetype": "text/x-python",
   "name": "python",
   "nbconvert_exporter": "python",
   "pygments_lexer": "ipython3",
   "version": "3.12.2"
  }
 },
 "nbformat": 4,
 "nbformat_minor": 2
}
